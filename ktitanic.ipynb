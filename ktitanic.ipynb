# GroningenML
# Kaggle Titanic Competition


# =============================================================================
# Part 1 - Data Preparation
# =============================================================================
# Importing the libraries
import pandas as pd
import numpy as np

# Importing the dataset
raw_csv_data_train = pd.read_csv('DATA/train.csv.csv', sep = ',')
raw_csv_data_test = pd.read_csv('DATA/test.csv', sep = ',')

# Copy to DataFrame
df_train = raw_csv_data_train.copy()
df_test = raw_csv_data_train.copy()
